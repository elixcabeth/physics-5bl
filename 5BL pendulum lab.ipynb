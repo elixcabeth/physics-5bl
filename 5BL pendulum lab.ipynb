{
 "cells": [
  {
   "cell_type": "code",
   "execution_count": 1,
   "id": "5c7aebfe",
   "metadata": {},
   "outputs": [],
   "source": [
    "import numpy as np\n",
    "import pandas as pd"
   ]
  },
  {
   "cell_type": "code",
   "execution_count": 2,
   "id": "33fd754a",
   "metadata": {},
   "outputs": [],
   "source": [
    "L = np.array([0.4890, 0.4890, 0.2297])\n",
    "T = np.array([1.40, 1.45, 1.14])"
   ]
  },
  {
   "cell_type": "code",
   "execution_count": 3,
   "id": "78a8b495",
   "metadata": {},
   "outputs": [
    {
     "name": "stdout",
     "output_type": "stream",
     "text": [
      "[9.84946235 9.18190069 6.97767969]\n"
     ]
    }
   ],
   "source": [
    "g = (4 * (np.pi ** 2) * L) / (T ** 2)\n",
    "print(g)"
   ]
  },
  {
   "cell_type": "code",
   "execution_count": 4,
   "id": "30ec3a0f",
   "metadata": {},
   "outputs": [
    {
     "name": "stdout",
     "output_type": "stream",
     "text": [
      "[0.66279313 0.61825373 1.78065136]\n"
     ]
    }
   ],
   "source": [
    "partial_L = 4 * (np.pi ** 2) / (T ** 2)\n",
    "partial_T = -8 * (np.pi ** 2) * L / (T ** 3)\n",
    "\n",
    "alpha_L = np.array([0.03283, 0.03283, 0.058595])\n",
    "alpha_T = np.array([0.0031984, 0.003731, 0.0040488])\n",
    "\n",
    "alpha_g = np.sqrt((partial_L * alpha_L)**2 + (partial_T * alpha_T)**2)\n",
    "\n",
    "print(alpha_g)"
   ]
  },
  {
   "cell_type": "code",
   "execution_count": 5,
   "id": "e35fd334",
   "metadata": {},
   "outputs": [
    {
     "name": "stdout",
     "output_type": "stream",
     "text": [
      "epsilon: [0.04946235 0.61809931 2.82232031]\n",
      "alpha_epsilon: [0.06597086 0.06608265 0.11746943]\n",
      "agree: [ True False False]\n"
     ]
    }
   ],
   "source": [
    "epsilon = np.abs(g - 9.80) \n",
    "print(\"epsilon:\", epsilon)\n",
    "\n",
    "alpha_e = 2 * np.sqrt((alpha_L ** 2) + (alpha_T ** 2))\n",
    "print(\"alpha_epsilon:\", alpha_e)\n",
    "\n",
    "print(\"agree:\", epsilon < alpha_e)"
   ]
  },
  {
   "cell_type": "code",
   "execution_count": 6,
   "id": "eae14fdd",
   "metadata": {},
   "outputs": [
    {
     "name": "stdout",
     "output_type": "stream",
     "text": [
      "0.489 1.45 1.0593347513977838\n",
      "8.182125797344117\n"
     ]
    }
   ],
   "source": [
    "theta = np.array([10, 45, 10])\n",
    "\n",
    "correction = 1 + (0.25 * (np.sin(theta[1] / 2)) ** 2)\n",
    "g_corrected = (4 * (np.pi ** 2) * L[1] ) / ((T[1] * correction) ** 2)\n",
    "print(L[1], T[1], correction)\n",
    "print(g_corrected)"
   ]
  }
 ],
 "metadata": {
  "kernelspec": {
   "display_name": "base",
   "language": "python",
   "name": "python3"
  },
  "language_info": {
   "codemirror_mode": {
    "name": "ipython",
    "version": 3
   },
   "file_extension": ".py",
   "mimetype": "text/x-python",
   "name": "python",
   "nbconvert_exporter": "python",
   "pygments_lexer": "ipython3",
   "version": "3.12.7"
  }
 },
 "nbformat": 4,
 "nbformat_minor": 5
}
