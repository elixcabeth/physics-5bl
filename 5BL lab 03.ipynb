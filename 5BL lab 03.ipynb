{
 "cells": [
  {
   "cell_type": "code",
   "execution_count": 1,
   "id": "1752196c",
   "metadata": {},
   "outputs": [
    {
     "name": "stdout",
     "output_type": "stream",
     "text": [
      "volume: 0.5325981295538946\n",
      "rho: 15.020706149871044\n"
     ]
    }
   ],
   "source": [
    "import numpy as np\n",
    "m = 8 # g\n",
    "d = 0.125 # cm\n",
    "L = 43.40 # cm\n",
    "\n",
    "V = (np.pi / 4) * (d ** 2) * L\n",
    "rho = m / V\n",
    "\n",
    "print(\"volume:\", V)\n",
    "print(\"rho:\", rho)"
   ]
  },
  {
   "cell_type": "code",
   "execution_count": 2,
   "id": "7a2bbefe",
   "metadata": {},
   "outputs": [
    {
     "name": "stdout",
     "output_type": "stream",
     "text": [
      "0.09969097525435085\n"
     ]
    }
   ],
   "source": [
    "alpha_L = 0.5033222957\n",
    "alpha_d = 0.01167618659\n",
    "\n",
    "alpha_V = ((np.pi * d)/4) * np.sqrt(((2 * L * alpha_d) ** 2) + ((d * alpha_L) ** 2))\n",
    "print(alpha_V)"
   ]
  },
  {
   "cell_type": "code",
   "execution_count": 3,
   "id": "ea61e593",
   "metadata": {},
   "outputs": [
    {
     "name": "stdout",
     "output_type": "stream",
     "text": [
      "3.3808546677949805\n"
     ]
    }
   ],
   "source": [
    "alpha_m = 1\n",
    "\n",
    "alpha_rho = np.sqrt(((alpha_m / V) ** 2) + ((m / (V ** 2)) * alpha_V) ** 2)\n",
    "print(alpha_rho)"
   ]
  },
  {
   "cell_type": "code",
   "execution_count": 4,
   "id": "5a3f7db1",
   "metadata": {},
   "outputs": [
    {
     "name": "stdout",
     "output_type": "stream",
     "text": [
      "6.04 3.38 False\n"
     ]
    }
   ],
   "source": [
    "epsilon = abs(15 - 8.96)\n",
    "alpha_e = np.sqrt((alpha_rho ** 2) + (0.01 ** 2))\n",
    "print(round(epsilon, 2), round(alpha_e, 2), epsilon < alpha_e)"
   ]
  },
  {
   "cell_type": "code",
   "execution_count": 5,
   "id": "0d191cfd",
   "metadata": {},
   "outputs": [
    {
     "name": "stdout",
     "output_type": "stream",
     "text": [
      "9.876543209876543\n"
     ]
    }
   ],
   "source": [
    "t = 0.45 # s\n",
    "h = 1.0 # m\n",
    "\n",
    "g = (2 * h) / (t ** 2)\n",
    "print(g)"
   ]
  },
  {
   "cell_type": "code",
   "execution_count": 6,
   "id": "b80667a5",
   "metadata": {},
   "outputs": [
    {
     "name": "stdout",
     "output_type": "stream",
     "text": [
      "0.4389852528934401\n"
     ]
    }
   ],
   "source": [
    "alpha_h = 0.0005 # m\n",
    "alpha_t = 0.01 # s\n",
    "\n",
    "alpha_g = np.sqrt((((2 / (t ** 2)) * alpha_h) ** 2) + ((((-4 * h) / (t ** 3)) * alpha_t) ** 2))\n",
    "print(alpha_g)"
   ]
  },
  {
   "cell_type": "code",
   "execution_count": 7,
   "id": "ea0104a6",
   "metadata": {},
   "outputs": [
    {
     "name": "stdout",
     "output_type": "stream",
     "text": [
      "0.07654320987654195 0.43909913716371335 True\n"
     ]
    }
   ],
   "source": [
    "epsilon = abs(9.8 - 9.876543209876543)\n",
    "alpha_e = np.sqrt((alpha_g ** 2) + (0.01 **2))\n",
    "print(epsilon, alpha_e, epsilon < alpha_e)"
   ]
  },
  {
   "cell_type": "code",
   "execution_count": 8,
   "id": "abddbc49",
   "metadata": {},
   "outputs": [
    {
     "name": "stdout",
     "output_type": "stream",
     "text": [
      "0.08 0.44 True\n"
     ]
    }
   ],
   "source": [
    "epsilon = abs(9.8 - 9.88)\n",
    "alpha_e = np.sqrt((alpha_g ** 2) + (0.01 ** 2))\n",
    "print(round(epsilon, 2), round(alpha_e, 2), epsilon < alpha_e)"
   ]
  },
  {
   "cell_type": "code",
   "execution_count": 9,
   "id": "274c2f63",
   "metadata": {},
   "outputs": [
    {
     "name": "stdout",
     "output_type": "stream",
     "text": [
      "0.4517539514526256\n"
     ]
    }
   ],
   "source": [
    "print(np.sqrt(2/9.8))"
   ]
  },
  {
   "cell_type": "code",
   "execution_count": 10,
   "id": "7911d76e",
   "metadata": {},
   "outputs": [
    {
     "name": "stdout",
     "output_type": "stream",
     "text": [
      "10.330578512396695\n",
      "9.876543209876543\n",
      "9.45179584120983\n"
     ]
    }
   ],
   "source": [
    "print((2 * h) / (0.44 ** 2))\n",
    "print((2 * h) / (0.45 ** 2))\n",
    "print((2 * h) / (0.46 ** 2))"
   ]
  },
  {
   "cell_type": "code",
   "execution_count": 11,
   "id": "54d02d3f",
   "metadata": {},
   "outputs": [
    {
     "name": "stdout",
     "output_type": "stream",
     "text": [
      "contrib from alpha h:  0.0049382716049382715\n",
      "contrib from alpha t:  0.43895747599451296\n",
      "alpha_g:  0.4389852528934401\n"
     ]
    }
   ],
   "source": [
    "t = 0.45 # s\n",
    "alpha_t = 0.01 # s\n",
    "h = 1.0 # m\n",
    "alpha_h = 0.0005 # m\n",
    "\n",
    "np.sqrt((((2 / (t ** 2)) * alpha_h) ** 2) + ((((-4 * h) / (t ** 3)) * alpha_t) ** 2))\n",
    "print(\"contrib from alpha h: \", ((2 / (t ** 2)) * alpha_h))\n",
    "print(\"contrib from alpha t: \", (((4 * h) / (t ** 3)) * alpha_t))\n",
    "print(\"alpha_g: \", alpha_g)"
   ]
  }
 ],
 "metadata": {
  "kernelspec": {
   "display_name": "base",
   "language": "python",
   "name": "python3"
  },
  "language_info": {
   "codemirror_mode": {
    "name": "ipython",
    "version": 3
   },
   "file_extension": ".py",
   "mimetype": "text/x-python",
   "name": "python",
   "nbconvert_exporter": "python",
   "pygments_lexer": "ipython3",
   "version": "3.12.7"
  }
 },
 "nbformat": 4,
 "nbformat_minor": 5
}
