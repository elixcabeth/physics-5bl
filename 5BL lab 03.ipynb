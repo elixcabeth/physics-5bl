{
 "cells": [
  {
   "cell_type": "code",
   "execution_count": 1,
   "id": "1752196c",
   "metadata": {},
   "outputs": [
    {
     "name": "stdout",
     "output_type": "stream",
     "text": [
      "volume: 0.5325981295538946\n",
      "rho: 15.020706149871044\n"
     ]
    }
   ],
   "source": [
    "import numpy as np\n",
    "m = 8 # g\n",
    "d = 0.125 # cm\n",
    "L = 43.40 # cm\n",
    "\n",
    "V = (np.pi / 4) * (d ** 2) * L\n",
    "rho = m / V\n",
    "\n",
    "print(\"volume:\", V)\n",
    "print(\"rho:\", rho)"
   ]
  },
  {
   "cell_type": "code",
   "execution_count": 2,
   "id": "7a2bbefe",
   "metadata": {},
   "outputs": [
    {
     "name": "stdout",
     "output_type": "stream",
     "text": [
      "0.09969097525435085\n"
     ]
    }
   ],
   "source": [
    "alpha_L = 0.5033222957\n",
    "alpha_d = 0.01167618659\n",
    "\n",
    "alpha_V = ((np.pi * d)/4) * np.sqrt(((2 * L * alpha_d) ** 2) + ((d * alpha_L) ** 2))\n",
    "print(alpha_V)"
   ]
  },
  {
   "cell_type": "code",
   "execution_count": 3,
   "id": "ea61e593",
   "metadata": {},
   "outputs": [
    {
     "name": "stdout",
     "output_type": "stream",
     "text": [
      "3.3808546677949805\n"
     ]
    }
   ],
   "source": [
    "alpha_m = 1\n",
    "\n",
    "alpha_rho = np.sqrt(((alpha_m / V) ** 2) + ((m / (V ** 2)) * alpha_V) ** 2)\n",
    "print(alpha_rho)"
   ]
  },
  {
   "cell_type": "code",
   "execution_count": 4,
   "id": "5a3f7db1",
   "metadata": {},
   "outputs": [
    {
     "name": "stdout",
     "output_type": "stream",
     "text": [
      "6.039999999999999 3.3808694569224507 False\n"
     ]
    }
   ],
   "source": [
    "epsilon = abs(15 - 8.96)\n",
    "alpha_e = np.sqrt((alpha_rho ** 2) + (0.01 **2))\n",
    "print(epsilon, alpha_e, epsilon < alpha_e)"
   ]
  },
  {
   "cell_type": "code",
   "execution_count": 5,
   "id": "0d191cfd",
   "metadata": {},
   "outputs": [
    {
     "name": "stdout",
     "output_type": "stream",
     "text": [
      "9.876543209876543\n"
     ]
    }
   ],
   "source": [
    "t = 0.45 # s\n",
    "h = 1.0 # m\n",
    "\n",
    "g = 2 * h / (t ** 2)\n",
    "print(g)"
   ]
  },
  {
   "cell_type": "code",
   "execution_count": 6,
   "id": "b80667a5",
   "metadata": {},
   "outputs": [
    {
     "name": "stdout",
     "output_type": "stream",
     "text": [
      "0.04471795129944403\n"
     ]
    }
   ],
   "source": [
    "alpha_h = 0.0005 # m\n",
    "alpha_t = 0.01 # s\n",
    "\n",
    "alpha_g = np.sqrt((((2 / (t ** 2)) * alpha_h) ** 2) + (((2 /t) * alpha_t) ** 2))\n",
    "print(alpha_g)"
   ]
  },
  {
   "cell_type": "code",
   "execution_count": 7,
   "id": "ea0104a6",
   "metadata": {},
   "outputs": [
    {
     "name": "stdout",
     "output_type": "stream",
     "text": [
      "0.07654320987654195 0.04582243084363212 False\n"
     ]
    }
   ],
   "source": [
    "epsilon = abs(9.8 - 9.876543209876543)\n",
    "alpha_e = np.sqrt((alpha_g ** 2) + (0.01 **2))\n",
    "print(epsilon, alpha_e, epsilon < alpha_e)"
   ]
  }
 ],
 "metadata": {
  "kernelspec": {
   "display_name": "base",
   "language": "python",
   "name": "python3"
  },
  "language_info": {
   "codemirror_mode": {
    "name": "ipython",
    "version": 3
   },
   "file_extension": ".py",
   "mimetype": "text/x-python",
   "name": "python",
   "nbconvert_exporter": "python",
   "pygments_lexer": "ipython3",
   "version": "3.12.7"
  }
 },
 "nbformat": 4,
 "nbformat_minor": 5
}
